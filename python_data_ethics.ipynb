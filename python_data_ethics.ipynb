{
  "cells": [
    {
      "cell_type": "code",
      "execution_count": null,
      "metadata": {
        "id": "FtSBPHNzsN2u"
      },
      "outputs": [],
      "source": [
        "# Welcome to Introduction to Data Ethics in Python\n",
        "# Raven Davis\n",
        "# raven.davis@library.gatech.edu\n",
        "# Jay Forrest\n",
        "# jay.forrest@library.gatech.edu\n",
        "\n",
        "# Resources\n",
        "# GT Library: www.library.gatech.edu -> ebooks, O'Reilly Database\n",
        "# Anaconda Distribution: www.anaconda.com\n",
        "# Datacamp:  www.datacamp.com\n",
        "# Lynda: lynda.gatech.edu\n",
        "\n",
        "\n",
        "# Objectives\n",
        "# Learn basics of python programming\n",
        "# Explore common functions in Pandas and NumPy for data wrangling\n",
        "# Create data visualizations using Seaborn"
      ]
    },
    {
      "cell_type": "code",
      "execution_count": null,
      "metadata": {
        "id": "iOGkByrR5Agp"
      },
      "outputs": [],
      "source": [
        "# Why Python?\n",
        "# --- Popular language for data analysis, data science, and general programming\n",
        "# --- Helps to create reproducible workflows to make research and analysis more efficient (modularize code, big data, etc.)\n",
        "\n",
        "# Why Colab?\n",
        "# --- Colab is cloud-based python notebook\n",
        "# --- Don't have to install any software\n",
        "# --- Can easily collaborate and ensure everyone has same version"
      ]
    },
    {
      "cell_type": "code",
      "execution_count": null,
      "metadata": {
        "id": "IJzwmCV62f7C"
      },
      "outputs": [],
      "source": [
        "# Colab navigation\n",
        "\n",
        "# Comments use pound sign\n",
        "\n",
        "# '+Code' to add code cell\n",
        "\n",
        "# Play button to run code\n",
        "\n",
        "# '+ Text' adds markdown cell"
      ]
    },
    {
      "cell_type": "code",
      "execution_count": null,
      "metadata": {
        "id": "oRIipwsYEOk0"
      },
      "outputs": [],
      "source": [
        "# Data Types\n",
        "# numeric types: ints (integers), floats (decimals), strings (characters)\n",
        "# sequence types: lists, tuples, dictionaries, sets\n",
        "# other: booleans, None\n",
        "# Pandas and NumPy have their own unique data types"
      ]
    },
    {
      "cell_type": "code",
      "execution_count": 2,
      "metadata": {
        "id": "0hOHeSgAsN2x"
      },
      "outputs": [],
      "source": [
        "# loading standard libraries\n",
        "# import [library name] as [alias]\n",
        "# as is optional (makes it alias/nickname)\n",
        "import numpy as np\n",
        "import pandas as pd\n",
        "import matplotlib.pyplot as plt # popular data visualization library in Python\n",
        "import seaborn as sns # also popular data viz library, built on top of matplotlib.pyplot"
      ]
    },
    {
      "cell_type": "code",
      "execution_count": null,
      "metadata": {
        "id": "2tTIB0uqE_UF"
      },
      "outputs": [],
      "source": [
        "# Functions\n",
        "# [function name](argument)\n",
        "# There are many built-in functions in Python\n",
        "# You can also create your own function\n",
        "\n",
        "# Help\n",
        "help(str)"
      ]
    },
    {
      "cell_type": "code",
      "execution_count": null,
      "metadata": {
        "id": "1mrNQEBysN2x"
      },
      "outputs": [],
      "source": [
        "# Variables\n",
        "# variables are names given to values\n",
        "# the \"=\" assigns a value to a variable name\n",
        "# variable names are case-sensitive and can't begin with a number\n",
        "\n",
        "a = 5 # the number 5 is assigned to the variable name 'a'\n",
        "a"
      ]
    },
    {
      "cell_type": "code",
      "execution_count": 9,
      "metadata": {
        "id": "Xcr1R90R5-gI",
        "outputId": "9cc1f53f-19c7-4ce8-c5c7-3d1de1be3b3f",
        "colab": {
          "base_uri": "https://localhost:8080/"
        }
      },
      "outputs": [
        {
          "output_type": "stream",
          "name": "stdout",
          "text": [
            "5\n",
            "5\n",
            "2\n",
            "2\n"
          ]
        }
      ],
      "source": [
        "print(a)\n",
        "b = 5\n",
        "print(b)\n",
        "a = 2\n",
        "print(a)\n",
        "b = a\n",
        "print(b)"
      ]
    },
    {
      "cell_type": "code",
      "execution_count": 10,
      "metadata": {
        "id": "iEbMeQ4p5wSd",
        "outputId": "55ce2604-80c2-4307-f780-1d29ac744f1e",
        "colab": {
          "base_uri": "https://localhost:8080/"
        }
      },
      "outputs": [
        {
          "output_type": "execute_result",
          "data": {
            "text/plain": [
              "int"
            ]
          },
          "metadata": {},
          "execution_count": 10
        }
      ],
      "source": [
        "# What data type is a?\n",
        "type(a)"
      ]
    },
    {
      "cell_type": "code",
      "execution_count": 11,
      "metadata": {
        "id": "GUdDzvJwBJLJ",
        "outputId": "7c68ac2a-4688-4ea6-d90c-a409f79fa3e2",
        "colab": {
          "base_uri": "https://localhost:8080/"
        }
      },
      "outputs": [
        {
          "output_type": "stream",
          "name": "stdout",
          "text": [
            "5\n",
            "Hello\n",
            "<class 'int'>\n",
            "<class 'str'>\n"
          ]
        }
      ],
      "source": [
        "# Print\n",
        "# print() is a built-in Python function\n",
        "# print() allows you to print objects to display a Python object in your output cell\n",
        "a = 5\n",
        "print(a)\n",
        "print(\"Hello\")\n",
        "print(type(a))\n",
        "print(type(\"Hello\")) # \"Hello\" is a string data type"
      ]
    },
    {
      "cell_type": "code",
      "execution_count": 20,
      "metadata": {
        "id": "0nnUmBUTsN2y",
        "outputId": "7b8ec9f4-0db8-4a33-d3ff-f9c1db927c0d",
        "colab": {
          "base_uri": "https://localhost:8080/"
        }
      },
      "outputs": [
        {
          "output_type": "stream",
          "name": "stdout",
          "text": [
            "7\n",
            "5\n",
            "Exponent: 625\n",
            "Modulus: 1\n",
            "Division: 12.5\n",
            "Integer Division: 12\n"
          ]
        }
      ],
      "source": [
        "#Numeric Operations +, -, *, /, **, %\n",
        "print(a+2)\n",
        "print(a)\n",
        "\n",
        "print('Exponent: ' + str(25**2)) # '+' sign allows you to concatenate strings\n",
        "print('Modulus: ' + str(25%2))\n",
        "print('Division: ' + str(25/2))\n",
        "print('Integer Division: ' + str(25//2))"
      ]
    },
    {
      "cell_type": "code",
      "execution_count": 22,
      "metadata": {
        "id": "5Itg6yoSqkqY",
        "outputId": "222b0a13-a106-4d21-9f3f-bea950e0d590",
        "colab": {
          "base_uri": "https://localhost:8080/"
        }
      },
      "outputs": [
        {
          "output_type": "stream",
          "name": "stdout",
          "text": [
            "True\n",
            "False\n",
            "True\n",
            "False\n",
            "True\n",
            "True\n",
            "False\n",
            "False\n",
            "True\n"
          ]
        }
      ],
      "source": [
        "# booleans and logical operators\n",
        "print(True)\n",
        "print(False)\n",
        "print(True or False)\n",
        "print(True and False)\n",
        "print(not False)\n",
        "\n",
        "# Comparison Operators\n",
        "\n",
        "# equal to\n",
        "print(a==5)\n",
        "# # # not equal to\n",
        "print(a!=5)\n",
        "# # # greater than and less than\n",
        "b = 7\n",
        "print(a > b)\n",
        "print(a < b)"
      ]
    },
    {
      "cell_type": "code",
      "execution_count": 26,
      "metadata": {
        "id": "m0H-80rzsN2y",
        "outputId": "998c628f-ff30-4e03-a4a0-7bf3042c9c5e",
        "colab": {
          "base_uri": "https://localhost:8080/"
        }
      },
      "outputs": [
        {
          "output_type": "stream",
          "name": "stdout",
          "text": [
            "a = 5\n",
            "b is greater than a\n",
            "a = 5\n",
            "b = 7\n"
          ]
        }
      ],
      "source": [
        "# if/elif/else\n",
        "\n",
        "if a == 5:\n",
        "  print(\"a = 5\")\n",
        "else:\n",
        "  print(\"a does not equal 5\")\n",
        "\n",
        "if b < a:\n",
        "    print(\"b is less than a\")\n",
        "elif b == a:\n",
        "    print(\"b is equal to a\")\n",
        "else:\n",
        "    print(\"b is greater than a\")\n",
        "\n",
        "print(\"a = \" + str(a))\n",
        "print(\"b = \" + str(b))"
      ]
    },
    {
      "cell_type": "code",
      "execution_count": 27,
      "metadata": {
        "id": "I72s8O-HlmCz",
        "outputId": "9d9c0549-f4c3-4ce8-9296-7e1123ad975e",
        "colab": {
          "base_uri": "https://localhost:8080/"
        }
      },
      "outputs": [
        {
          "output_type": "stream",
          "name": "stdout",
          "text": [
            "['the', 'quick', 'brown', 'fox']\n"
          ]
        }
      ],
      "source": [
        "# Lists allow you to store multiple items in the same variable\n",
        "a = 'brown'\n",
        "b = 'fox'\n",
        "my_list = ['the', 'quick',  a , b]\n",
        "print(my_list)"
      ]
    },
    {
      "cell_type": "code",
      "execution_count": 40,
      "metadata": {
        "id": "h6j66WG8sN2y",
        "outputId": "d8b61902-c50f-4a4f-bcf7-80d0c3c151a3",
        "colab": {
          "base_uri": "https://localhost:8080/"
        }
      },
      "outputs": [
        {
          "output_type": "execute_result",
          "data": {
            "text/plain": [
              "3"
            ]
          },
          "metadata": {},
          "execution_count": 40
        }
      ],
      "source": [
        "# List Operations\n",
        "my_list * 2\n",
        "# # # # Length\n",
        "len(my_list)\n",
        "# # # # Index\n",
        "my_list[1]\n",
        "# # # Slice (inclusive start | exclusive end)\n",
        "my_list[0:2]\n",
        "my_list[:-2]\n",
        "my_list2 = [[1,2,3,4] + [5,6,7,8]]\n",
        "my_list2\n",
        "my_list2[0]\n",
        "my_list2[0][2]\n",
        "my_list3 = [[1,2,3,4] , [5,6,7,8]]\n",
        "# # How many elements does the outer list have?\n",
        "# # How many elements does each inner list have?\n",
        "my_list3[0]\n",
        "my_list3[0][2]"
      ]
    },
    {
      "cell_type": "code",
      "execution_count": 51,
      "metadata": {
        "id": "ydA0vXUvxFa1"
      },
      "outputs": [],
      "source": [
        "# Dictionary Operations\n",
        "my_dict = {\"first\": \"a\", \"second\": 5, 6:[8,9,10]}\n",
        "# print(my_dict[\"first\"])\n",
        "# print(my_dict[6])\n",
        "# print(my_dict[6][1])\n",
        "# my_dict.keys()\n",
        "# my_dict.values()\n",
        "# my_dict.items()\n",
        "# my_dict\n",
        "# my_dict.items()"
      ]
    },
    {
      "cell_type": "code",
      "execution_count": 66,
      "metadata": {
        "id": "4rPV4gOTqi0J",
        "outputId": "500f12ce-a69a-4a2e-c171-5647403651f3",
        "colab": {
          "base_uri": "https://localhost:8080/"
        }
      },
      "outputs": [
        {
          "output_type": "stream",
          "name": "stdout",
          "text": [
            "2 is still less than b\n",
            "a is 3\n",
            "3 is still less than b\n",
            "a is 4\n",
            "4 is still less than b\n",
            "a is 5\n",
            "first\n",
            "a\n",
            "second\n",
            "5\n",
            "6\n",
            "[8, 9, 10]\n"
          ]
        }
      ],
      "source": [
        "# loops\n",
        "a = 2\n",
        "b = 5\n",
        "\n",
        "# while loops - execute while condition is met\n",
        "\n",
        "while a < b:\n",
        "  print(str(a) + \" is still less than b\")\n",
        "  a = a + 1\n",
        "  print(\"a is \" + str(a))\n",
        "\n",
        "# # Using the range function for loops - generates a sequence of numbers\n",
        "\n",
        "# range(0,10)\n",
        "# list(range(10))\n",
        "# list(range(2,10))\n",
        "\n",
        "# # For Loops - execute a certain amount of times\n",
        "\n",
        "# for i in range(10):\n",
        "#   print(i)\n",
        "# for i in range(len(my_list)):\n",
        "#   print(i)\n",
        "# for element in my_list:\n",
        "#   print(element)\n",
        "# for keys in my_dict:\n",
        "#   print(keys)\n",
        "# for keys in my_dict.keys():\n",
        "#   print(keys)\n",
        "# for values in my_dict.values():\n",
        "#   print(values)\n",
        "# for all in my_dict.items():\n",
        "  # print(all)\n",
        "# for keys, values in my_dict.items():\n",
        "#   print(keys)\n",
        "#   print(values)"
      ]
    },
    {
      "cell_type": "code",
      "execution_count": 71,
      "metadata": {
        "id": "rkSwPgKzxIDC",
        "outputId": "2d7cbca7-7ab3-40b2-cb63-64230b1e66ac",
        "colab": {
          "base_uri": "https://localhost:8080/",
          "height": 107
        }
      },
      "outputs": [
        {
          "output_type": "stream",
          "name": "stdout",
          "text": [
            "the\n",
            "quick\n",
            "brown\n",
            "fox\n"
          ]
        },
        {
          "output_type": "execute_result",
          "data": {
            "text/plain": [
              "'Finished printing elements in list'"
            ],
            "application/vnd.google.colaboratory.intrinsic+json": {
              "type": "string"
            }
          },
          "metadata": {},
          "execution_count": 71
        }
      ],
      "source": [
        "# Creating a function\n",
        "def print_element(lst):\n",
        "  for element in lst:\n",
        "    print(element)\n",
        "  return(\"Finished printing elements in list\") # return has quotation marks for a String, but print does not\n",
        "\n",
        "print_element(my_list)"
      ]
    },
    {
      "cell_type": "code",
      "execution_count": null,
      "metadata": {
        "id": "EwhOCC74AdeI"
      },
      "outputs": [],
      "source": [
        "# NumPy\n",
        "# -- faster than Python's native data structures\n",
        "# -- can create multidimensional arrays\n",
        "# -- can create specific matrices\n",
        "# -- all elements must be the same data type (unlike dictionaries and lists)\n",
        "# -- once created, size of array can't change\n",
        "\n",
        "# ex: if working with a matrix, much better to work with NumPy rather than a list in Python"
      ]
    },
    {
      "cell_type": "code",
      "execution_count": 97,
      "metadata": {
        "id": "ZEM5Px5dsN20",
        "outputId": "51b1105d-87c4-4f46-e5ec-c52e0f17c6a7",
        "colab": {
          "base_uri": "https://localhost:8080/"
        }
      },
      "outputs": [
        {
          "output_type": "execute_result",
          "data": {
            "text/plain": [
              "array([3, 4])"
            ]
          },
          "metadata": {},
          "execution_count": 97
        }
      ],
      "source": [
        "# Arrays\n",
        "\n",
        "# # Creating arrays\n",
        "my_array = np.array(my_list3[0][0:4]) # from a list, np is alias we created earlier for NumPy\n",
        "my_array\n",
        "# my_array = np.array([0,3,4,8]) # without a list\n",
        "# print(my_array)\n",
        "# # An array of zeros\n",
        "# np.zeros(2) # an array of zeros\n",
        "# np.zeros((3,4)) # a zero matrix\n",
        "# # An array of ones\n",
        "# np.ones((2,4))\n",
        "# # An empty array\n",
        "# np.empty((3,3))\n",
        "# # An array of random numbers\n",
        "# np.random.randint(0,10, 1)\n",
        "\n",
        "# # # Indexing and Slicing\n",
        "# my_array[0]\n",
        "# # my_array[1:3]\n",
        "# # print(my_list3)\n",
        "# # print(my_array[0,1])\n",
        "# # print(my_array[0,1:3])\n",
        "\n",
        "# # Array Attributes\n",
        "# my_array.ndim\n",
        "# my_array.shape\n",
        "# my_array.size\n",
        "# my_array.dtype\n",
        "\n",
        "# # Array Operations\n",
        "# my_array + np.ones(4) # addition\n",
        "# my_array * np.ones(4) # multiplication\n",
        "# my_array * 5 # broadcasting\n",
        "\n",
        "# # Masking\n",
        "# my_array > 2\n",
        "mask = my_array > 2\n",
        "my_array[mask]"
      ]
    },
    {
      "cell_type": "code",
      "execution_count": null,
      "metadata": {
        "id": "nUq_nwW7MibJ"
      },
      "outputs": [],
      "source": [
        "# Pandas\n",
        "# https://pandas.pydata.org/docs/reference/index.html\n",
        "# -- popular package for handling data in Python like a spreadsheet"
      ]
    },
    {
      "cell_type": "code",
      "execution_count": null,
      "metadata": {
        "id": "dD5jOIaTMnFn"
      },
      "outputs": [],
      "source": [
        "# Explanation of data\n",
        "# https://github.com/propublica/compas-analysis/blob/master/Compas%20Analysis.ipynb\n",
        "# The COMPAS algorithm is one of the most popular algorithms currently being used in the US for pretrial and sentencing\n",
        "# The data comes from Broward County, FL, because it is a large jurisdiction that is using the COMPAS algorithm in pretrial release decisions\n",
        "# to determine whether or not to release a defendant before trial\n",
        "# The data includes two years worth of data for XXXXXXXXXXXXXXXXX people between 2013 and 2014\n",
        "# Each person in the dataset receives 3 COMPAS scores - Risk of Recidivism, Risk of Violent Recidivism, and Risk of Failure to appear. This analysis will not look\n",
        "# at Risk of Failure to Appear.\n",
        "# Scores range from 1-10, with 10 being the highest risk. Scores 1-4 are labeled as \"Low\", 5-7 are labelled as \"Medium\", and 8-10 are labeled\n",
        "# as \"High.\"\n",
        "# The data also includes each person's criminal history before and after they're scored"
      ]
    },
    {
      "cell_type": "code",
      "execution_count": null,
      "metadata": {
        "id": "q4YTQT6cU45T"
      },
      "outputs": [],
      "source": [
        "# Research Question\n",
        "# Is the COMPAS algorithm biased against certain groups of people?\n",
        "\n",
        "# Scope/Limitations\n",
        "# ProPublica defines recidivism as a criminal offense that results in jail booking and took place after the initial crime in which the person\n",
        "# received the COMPAS score, based on the definition provided by Northpointe. However, the specfic case for which a person received a COMPAS score\n",
        "# is not always clear.\n",
        "# To address this issue, COMPAS scores are matched with cases that have arrest dates or charge dates within 30 days of a COMPAS score being issued.\n",
        "\n",
        "# To define actual recidivism, the analysis limits crimes to 1) crimes that occur after the COMPAS-scored offense, 2) crimes that are not traffic tickets,\n",
        "# municipal ordinance violations or failure to appear at court\n",
        "\n",
        "# Violent recidivism is defined using the FBI's definition of violent crime, which includes murder, manslaughter, forcible rape, robbery, and aggravated assault"
      ]
    },
    {
      "cell_type": "code",
      "execution_count": 115,
      "metadata": {
        "id": "AUTMHGF3sN21",
        "scrolled": true
      },
      "outputs": [],
      "source": [
        "# Data Frames\n",
        "# Load csv\n",
        "\n",
        "url= \"https://raw.githubusercontent.com/GT-Library-Data-Vis/python_data_ethics/refs/heads/main/compas_data.csv\"\n",
        "\n",
        "compas_df = pd.read_csv(url) # load entire dataset\n",
        "# compas_df.info()\n",
        "\n",
        "# compas_df.head(8) # get first few rows, defaults to 5\n",
        "# compas_df.tail() # get last few rows\n",
        "# compas_df.shape[0] # number of rows, returns a tuple\n",
        "# compas_df.shape[1] # number of columns\n",
        "# print(compas_df.columns) # columns in dataset"
      ]
    },
    {
      "cell_type": "code",
      "execution_count": 136,
      "metadata": {
        "id": "aMpnv8rwxN8V",
        "outputId": "b3db0d0c-1c03-42a5-ecd5-a1b20b74ef62",
        "colab": {
          "base_uri": "https://localhost:8080/"
        }
      },
      "outputs": [
        {
          "output_type": "execute_result",
          "data": {
            "text/plain": [
              "np.float64(57.731368186874306)"
            ]
          },
          "metadata": {},
          "execution_count": 136
        }
      ],
      "source": [
        "# # Indexing and slicing\n",
        "# compas_df[\"compas_screening_date\"]# selecting one column\n",
        "# compas_df.compas_screening_date # selecting one column, only works if there are no spaces in the column names\n",
        "# compas_df[[\"compas_screening_date\", \"is_recid\", \"decile_score\"]] # selecting multiple columns\n",
        "# compas_df.loc[:9, \"priors_count\"] # slicing with loc, able to specify how many rows you want from a column\n",
        "# compas_df.iloc[0:10, 15:20] # slicing with iloc\n",
        "# compas_df.iloc[0,5] #specific value\n",
        "\n",
        "# # adding a column\n",
        "# compas_df[\"new_col\"] = 5\n",
        "# compas_df[\"new_col\"]\n",
        "# compas_df = compas_df.drop(\"new_col\", axis=1) #gets rid of a colmn u want to drop, axis = 1 tells it you want to drop a column bc row = 0, col = 1\n",
        "\n",
        "# # Descriptive Statistics\n",
        "# print(compas_df.describe()) # descriptive statistics for numeric columns\n",
        "# len(compas_df) # length\n",
        "# compas_df[\"decile_score\"].median() # median\n",
        "# compas_df[\"c_days_from_compas\"].mean()# mean"
      ]
    },
    {
      "cell_type": "code",
      "execution_count": 137,
      "metadata": {
        "id": "vwAcJ5aELRRv"
      },
      "outputs": [],
      "source": [
        "# Select columns for new dataset\n",
        "compas_df = compas_df[[\"age\", \"c_charge_degree\", \"race\", \"age_cat\", \"score_text\", \"sex\", \"priors_count\",\n",
        "                    \"days_b_screening_arrest\", \"decile_score\", \"is_recid\", \"two_year_recid\", \"c_jail_in\", \"c_jail_out\"]]\n"
      ]
    },
    {
      "cell_type": "code",
      "execution_count": 144,
      "metadata": {
        "id": "jVKmwRj1LRRv",
        "outputId": "f7a08468-d4f5-4954-9be9-fd967fe9ddde",
        "colab": {
          "base_uri": "https://localhost:8080/",
          "height": 458
        }
      },
      "outputs": [
        {
          "output_type": "execute_result",
          "data": {
            "text/plain": [
              "0        0.0\n",
              "1       10.0\n",
              "2        1.0\n",
              "3        NaN\n",
              "4        NaN\n",
              "        ... \n",
              "7209     1.0\n",
              "7210     1.0\n",
              "7211     1.0\n",
              "7212     1.0\n",
              "7213     1.0\n",
              "Name: length_of_stay, Length: 7214, dtype: float64"
            ],
            "text/html": [
              "<div>\n",
              "<style scoped>\n",
              "    .dataframe tbody tr th:only-of-type {\n",
              "        vertical-align: middle;\n",
              "    }\n",
              "\n",
              "    .dataframe tbody tr th {\n",
              "        vertical-align: top;\n",
              "    }\n",
              "\n",
              "    .dataframe thead th {\n",
              "        text-align: right;\n",
              "    }\n",
              "</style>\n",
              "<table border=\"1\" class=\"dataframe\">\n",
              "  <thead>\n",
              "    <tr style=\"text-align: right;\">\n",
              "      <th></th>\n",
              "      <th>length_of_stay</th>\n",
              "    </tr>\n",
              "  </thead>\n",
              "  <tbody>\n",
              "    <tr>\n",
              "      <th>0</th>\n",
              "      <td>0.0</td>\n",
              "    </tr>\n",
              "    <tr>\n",
              "      <th>1</th>\n",
              "      <td>10.0</td>\n",
              "    </tr>\n",
              "    <tr>\n",
              "      <th>2</th>\n",
              "      <td>1.0</td>\n",
              "    </tr>\n",
              "    <tr>\n",
              "      <th>3</th>\n",
              "      <td>NaN</td>\n",
              "    </tr>\n",
              "    <tr>\n",
              "      <th>4</th>\n",
              "      <td>NaN</td>\n",
              "    </tr>\n",
              "    <tr>\n",
              "      <th>...</th>\n",
              "      <td>...</td>\n",
              "    </tr>\n",
              "    <tr>\n",
              "      <th>7209</th>\n",
              "      <td>1.0</td>\n",
              "    </tr>\n",
              "    <tr>\n",
              "      <th>7210</th>\n",
              "      <td>1.0</td>\n",
              "    </tr>\n",
              "    <tr>\n",
              "      <th>7211</th>\n",
              "      <td>1.0</td>\n",
              "    </tr>\n",
              "    <tr>\n",
              "      <th>7212</th>\n",
              "      <td>1.0</td>\n",
              "    </tr>\n",
              "    <tr>\n",
              "      <th>7213</th>\n",
              "      <td>1.0</td>\n",
              "    </tr>\n",
              "  </tbody>\n",
              "</table>\n",
              "<p>7214 rows × 1 columns</p>\n",
              "</div><br><label><b>dtype:</b> float64</label>"
            ]
          },
          "metadata": {},
          "execution_count": 144
        }
      ],
      "source": [
        "# Add new column\n",
        "# compas_df.c_jail_in = pd.to_datetime(compas_df.c_jail_in)\n",
        "# compas_df.c_jail_out = pd.to_datetime(compas_df.c_jail_out)\n",
        "# compas_df[\"length_of_stay\"] = compas_df.c_jail_out - compas_df.c_jail_in # adds new column for duration of jail time\n",
        "# # compas_df[\"length_of_stay\"]\n",
        "# compas_df[\"length_of_stay\"] = compas_df.length_of_stay.dt.days # converts to an integer that is just the number of days without time\n",
        "# compas_df[\"length_of_stay\"]"
      ]
    },
    {
      "cell_type": "code",
      "execution_count": null,
      "metadata": {
        "id": "n91-ueqVLRRv"
      },
      "outputs": [],
      "source": [
        "compas_df.c_charge_degree"
      ]
    },
    {
      "cell_type": "code",
      "execution_count": 147,
      "metadata": {
        "id": "E5EEN_-OX9ls",
        "outputId": "23fc2183-e677-428c-8464-85fb143a22a0",
        "colab": {
          "base_uri": "https://localhost:8080/",
          "height": 304
        }
      },
      "outputs": [
        {
          "output_type": "execute_result",
          "data": {
            "text/plain": [
              "is_recid  age_cat        \n",
              "0         25 - 45            3.668741\n",
              "          Greater than 45    2.308285\n",
              "          Less than 25       5.181818\n",
              "1         25 - 45            5.562376\n",
              "          Greater than 45    4.092937\n",
              "          Less than 25       6.398686\n",
              "Name: decile_score, dtype: float64"
            ],
            "text/html": [
              "<div>\n",
              "<style scoped>\n",
              "    .dataframe tbody tr th:only-of-type {\n",
              "        vertical-align: middle;\n",
              "    }\n",
              "\n",
              "    .dataframe tbody tr th {\n",
              "        vertical-align: top;\n",
              "    }\n",
              "\n",
              "    .dataframe thead th {\n",
              "        text-align: right;\n",
              "    }\n",
              "</style>\n",
              "<table border=\"1\" class=\"dataframe\">\n",
              "  <thead>\n",
              "    <tr style=\"text-align: right;\">\n",
              "      <th></th>\n",
              "      <th></th>\n",
              "      <th>decile_score</th>\n",
              "    </tr>\n",
              "    <tr>\n",
              "      <th>is_recid</th>\n",
              "      <th>age_cat</th>\n",
              "      <th></th>\n",
              "    </tr>\n",
              "  </thead>\n",
              "  <tbody>\n",
              "    <tr>\n",
              "      <th rowspan=\"3\" valign=\"top\">0</th>\n",
              "      <th>25 - 45</th>\n",
              "      <td>3.668741</td>\n",
              "    </tr>\n",
              "    <tr>\n",
              "      <th>Greater than 45</th>\n",
              "      <td>2.308285</td>\n",
              "    </tr>\n",
              "    <tr>\n",
              "      <th>Less than 25</th>\n",
              "      <td>5.181818</td>\n",
              "    </tr>\n",
              "    <tr>\n",
              "      <th rowspan=\"3\" valign=\"top\">1</th>\n",
              "      <th>25 - 45</th>\n",
              "      <td>5.562376</td>\n",
              "    </tr>\n",
              "    <tr>\n",
              "      <th>Greater than 45</th>\n",
              "      <td>4.092937</td>\n",
              "    </tr>\n",
              "    <tr>\n",
              "      <th>Less than 25</th>\n",
              "      <td>6.398686</td>\n",
              "    </tr>\n",
              "  </tbody>\n",
              "</table>\n",
              "</div><br><label><b>dtype:</b> float64</label>"
            ]
          },
          "metadata": {},
          "execution_count": 147
        }
      ],
      "source": [
        "# groupby - splits dataframe into groups based on unique values in the column, applies an aggregation method, combines results\n",
        "# compas_df.groupby(\"is_recid\")['decile_score'].mean() # 0 is no, # 1 is yes --> shows that if they didnt recidivize, their prediction of recidivizing is lower\n",
        "compas_df[[\"is_recid\", \"age_cat\", \"decile_score\"]].groupby([\"is_recid\",\"age_cat\"]).mean() # puts it into dataframe\n",
        "compas_df.groupby([\"is_recid\",\"age_cat\"])[\"decile_score\"].mean()"
      ]
    },
    {
      "cell_type": "code",
      "execution_count": 154,
      "metadata": {
        "id": "QNvVb-mHLRRv",
        "outputId": "89783da8-a172-4873-df20-4dc2fee67c05",
        "colab": {
          "base_uri": "https://localhost:8080/",
          "height": 304
        }
      },
      "outputs": [
        {
          "output_type": "execute_result",
          "data": {
            "text/plain": [
              "race            \n",
              "African-American    0.512337\n",
              "Caucasian           0.340172\n",
              "Hispanic            0.088301\n",
              "Other               0.052259\n",
              "Asian               0.004436\n",
              "Native American     0.002495\n",
              "Name: proportion, dtype: float64"
            ],
            "text/html": [
              "<div>\n",
              "<style scoped>\n",
              "    .dataframe tbody tr th:only-of-type {\n",
              "        vertical-align: middle;\n",
              "    }\n",
              "\n",
              "    .dataframe tbody tr th {\n",
              "        vertical-align: top;\n",
              "    }\n",
              "\n",
              "    .dataframe thead th {\n",
              "        text-align: right;\n",
              "    }\n",
              "</style>\n",
              "<table border=\"1\" class=\"dataframe\">\n",
              "  <thead>\n",
              "    <tr style=\"text-align: right;\">\n",
              "      <th></th>\n",
              "      <th>proportion</th>\n",
              "    </tr>\n",
              "    <tr>\n",
              "      <th>race</th>\n",
              "      <th></th>\n",
              "    </tr>\n",
              "  </thead>\n",
              "  <tbody>\n",
              "    <tr>\n",
              "      <th>African-American</th>\n",
              "      <td>0.512337</td>\n",
              "    </tr>\n",
              "    <tr>\n",
              "      <th>Caucasian</th>\n",
              "      <td>0.340172</td>\n",
              "    </tr>\n",
              "    <tr>\n",
              "      <th>Hispanic</th>\n",
              "      <td>0.088301</td>\n",
              "    </tr>\n",
              "    <tr>\n",
              "      <th>Other</th>\n",
              "      <td>0.052259</td>\n",
              "    </tr>\n",
              "    <tr>\n",
              "      <th>Asian</th>\n",
              "      <td>0.004436</td>\n",
              "    </tr>\n",
              "    <tr>\n",
              "      <th>Native American</th>\n",
              "      <td>0.002495</td>\n",
              "    </tr>\n",
              "  </tbody>\n",
              "</table>\n",
              "</div><br><label><b>dtype:</b> float64</label>"
            ]
          },
          "metadata": {},
          "execution_count": 154
        }
      ],
      "source": [
        "# Using groupby and value count to explore data\n",
        "# compas_df[[\"race\"]].groupby(\"race\").size()\n",
        "# compas_df[[\"age_cat\"]].groupby(\"age_cat\").size()\n",
        "# compas_df[[\"sex\"]].groupby(\"sex\").size()\n",
        "# compas_df.groupby([\"race\",\"sex\"]).size()\n",
        "\n",
        "\n",
        "# compas_df.score_text.value_counts()\n",
        "# compas_df[[\"race\"]].value_counts(normalize=True)\n",
        "# compas_df[[\"sex\"]].value_counts(normalize=True)"
      ]
    },
    {
      "cell_type": "code",
      "execution_count": null,
      "metadata": {
        "id": "013xHWS6LRRv"
      },
      "outputs": [],
      "source": [
        "# For this analysis, we will use boolean indexing to filter based on several conditions\n",
        "# - If the charge data of the defendant's Compas-scored crime was not within 30 days of when the defendant was arrested, we can\n",
        "# assume that we do not have the right offense\n",
        "# If the recidivist flag is -1, researchers could not find the corresponding compas case\n",
        "# If the offense was an ordinary traffic offense\n",
        "# We will only look at data within a two-year period, since data from the US Sentencing Commission shows that most prisoners commit a new crime within\n",
        "# the first two years after they are released and Northpointe's recidivism score is meant to predict a new offense within two years of the COMPAS score."
      ]
    },
    {
      "cell_type": "code",
      "execution_count": 164,
      "metadata": {
        "id": "MFqXUgOBHeKo",
        "outputId": "a1cd9dfe-6b4d-4bd8-dcd0-357aaa0f84fc",
        "colab": {
          "base_uri": "https://localhost:8080/",
          "height": 313
        }
      },
      "outputs": [
        {
          "output_type": "execute_result",
          "data": {
            "text/plain": [
              "   age c_charge_degree              race          age_cat score_text   sex  \\\n",
              "0   69               F             Other  Greater than 45        Low  Male   \n",
              "1   34               F  African-American          25 - 45        Low  Male   \n",
              "2   24               F  African-American     Less than 25        Low  Male   \n",
              "3   44               M             Other          25 - 45        Low  Male   \n",
              "4   41               F         Caucasian          25 - 45     Medium  Male   \n",
              "\n",
              "   priors_count  days_b_screening_arrest  decile_score  is_recid  \\\n",
              "0             0                     -1.0             1         0   \n",
              "1             0                     -1.0             3         1   \n",
              "2             4                     -1.0             4         1   \n",
              "3             0                      0.0             1         0   \n",
              "4            14                     -1.0             6         1   \n",
              "\n",
              "   two_year_recid           c_jail_in          c_jail_out  length_of_stay  \n",
              "0               0 2013-08-13 06:03:42 2013-08-14 05:41:20             0.0  \n",
              "1               1 2013-01-26 03:45:27 2013-02-05 05:36:53            10.0  \n",
              "2               1 2013-04-13 04:58:34 2013-04-14 07:02:04             1.0  \n",
              "3               0 2013-11-30 04:50:18 2013-12-01 12:28:56             1.0  \n",
              "4               1 2014-02-18 05:08:24 2014-02-24 12:18:30             6.0  "
            ],
            "text/html": [
              "\n",
              "  <div id=\"df-c1f8ea62-d09d-4ecf-9837-035239755ae0\" class=\"colab-df-container\">\n",
              "    <div>\n",
              "<style scoped>\n",
              "    .dataframe tbody tr th:only-of-type {\n",
              "        vertical-align: middle;\n",
              "    }\n",
              "\n",
              "    .dataframe tbody tr th {\n",
              "        vertical-align: top;\n",
              "    }\n",
              "\n",
              "    .dataframe thead th {\n",
              "        text-align: right;\n",
              "    }\n",
              "</style>\n",
              "<table border=\"1\" class=\"dataframe\">\n",
              "  <thead>\n",
              "    <tr style=\"text-align: right;\">\n",
              "      <th></th>\n",
              "      <th>age</th>\n",
              "      <th>c_charge_degree</th>\n",
              "      <th>race</th>\n",
              "      <th>age_cat</th>\n",
              "      <th>score_text</th>\n",
              "      <th>sex</th>\n",
              "      <th>priors_count</th>\n",
              "      <th>days_b_screening_arrest</th>\n",
              "      <th>decile_score</th>\n",
              "      <th>is_recid</th>\n",
              "      <th>two_year_recid</th>\n",
              "      <th>c_jail_in</th>\n",
              "      <th>c_jail_out</th>\n",
              "      <th>length_of_stay</th>\n",
              "    </tr>\n",
              "  </thead>\n",
              "  <tbody>\n",
              "    <tr>\n",
              "      <th>0</th>\n",
              "      <td>69</td>\n",
              "      <td>F</td>\n",
              "      <td>Other</td>\n",
              "      <td>Greater than 45</td>\n",
              "      <td>Low</td>\n",
              "      <td>Male</td>\n",
              "      <td>0</td>\n",
              "      <td>-1.0</td>\n",
              "      <td>1</td>\n",
              "      <td>0</td>\n",
              "      <td>0</td>\n",
              "      <td>2013-08-13 06:03:42</td>\n",
              "      <td>2013-08-14 05:41:20</td>\n",
              "      <td>0.0</td>\n",
              "    </tr>\n",
              "    <tr>\n",
              "      <th>1</th>\n",
              "      <td>34</td>\n",
              "      <td>F</td>\n",
              "      <td>African-American</td>\n",
              "      <td>25 - 45</td>\n",
              "      <td>Low</td>\n",
              "      <td>Male</td>\n",
              "      <td>0</td>\n",
              "      <td>-1.0</td>\n",
              "      <td>3</td>\n",
              "      <td>1</td>\n",
              "      <td>1</td>\n",
              "      <td>2013-01-26 03:45:27</td>\n",
              "      <td>2013-02-05 05:36:53</td>\n",
              "      <td>10.0</td>\n",
              "    </tr>\n",
              "    <tr>\n",
              "      <th>2</th>\n",
              "      <td>24</td>\n",
              "      <td>F</td>\n",
              "      <td>African-American</td>\n",
              "      <td>Less than 25</td>\n",
              "      <td>Low</td>\n",
              "      <td>Male</td>\n",
              "      <td>4</td>\n",
              "      <td>-1.0</td>\n",
              "      <td>4</td>\n",
              "      <td>1</td>\n",
              "      <td>1</td>\n",
              "      <td>2013-04-13 04:58:34</td>\n",
              "      <td>2013-04-14 07:02:04</td>\n",
              "      <td>1.0</td>\n",
              "    </tr>\n",
              "    <tr>\n",
              "      <th>3</th>\n",
              "      <td>44</td>\n",
              "      <td>M</td>\n",
              "      <td>Other</td>\n",
              "      <td>25 - 45</td>\n",
              "      <td>Low</td>\n",
              "      <td>Male</td>\n",
              "      <td>0</td>\n",
              "      <td>0.0</td>\n",
              "      <td>1</td>\n",
              "      <td>0</td>\n",
              "      <td>0</td>\n",
              "      <td>2013-11-30 04:50:18</td>\n",
              "      <td>2013-12-01 12:28:56</td>\n",
              "      <td>1.0</td>\n",
              "    </tr>\n",
              "    <tr>\n",
              "      <th>4</th>\n",
              "      <td>41</td>\n",
              "      <td>F</td>\n",
              "      <td>Caucasian</td>\n",
              "      <td>25 - 45</td>\n",
              "      <td>Medium</td>\n",
              "      <td>Male</td>\n",
              "      <td>14</td>\n",
              "      <td>-1.0</td>\n",
              "      <td>6</td>\n",
              "      <td>1</td>\n",
              "      <td>1</td>\n",
              "      <td>2014-02-18 05:08:24</td>\n",
              "      <td>2014-02-24 12:18:30</td>\n",
              "      <td>6.0</td>\n",
              "    </tr>\n",
              "  </tbody>\n",
              "</table>\n",
              "</div>\n",
              "    <div class=\"colab-df-buttons\">\n",
              "\n",
              "  <div class=\"colab-df-container\">\n",
              "    <button class=\"colab-df-convert\" onclick=\"convertToInteractive('df-c1f8ea62-d09d-4ecf-9837-035239755ae0')\"\n",
              "            title=\"Convert this dataframe to an interactive table.\"\n",
              "            style=\"display:none;\">\n",
              "\n",
              "  <svg xmlns=\"http://www.w3.org/2000/svg\" height=\"24px\" viewBox=\"0 -960 960 960\">\n",
              "    <path d=\"M120-120v-720h720v720H120Zm60-500h600v-160H180v160Zm220 220h160v-160H400v160Zm0 220h160v-160H400v160ZM180-400h160v-160H180v160Zm440 0h160v-160H620v160ZM180-180h160v-160H180v160Zm440 0h160v-160H620v160Z\"/>\n",
              "  </svg>\n",
              "    </button>\n",
              "\n",
              "  <style>\n",
              "    .colab-df-container {\n",
              "      display:flex;\n",
              "      gap: 12px;\n",
              "    }\n",
              "\n",
              "    .colab-df-convert {\n",
              "      background-color: #E8F0FE;\n",
              "      border: none;\n",
              "      border-radius: 50%;\n",
              "      cursor: pointer;\n",
              "      display: none;\n",
              "      fill: #1967D2;\n",
              "      height: 32px;\n",
              "      padding: 0 0 0 0;\n",
              "      width: 32px;\n",
              "    }\n",
              "\n",
              "    .colab-df-convert:hover {\n",
              "      background-color: #E2EBFA;\n",
              "      box-shadow: 0px 1px 2px rgba(60, 64, 67, 0.3), 0px 1px 3px 1px rgba(60, 64, 67, 0.15);\n",
              "      fill: #174EA6;\n",
              "    }\n",
              "\n",
              "    .colab-df-buttons div {\n",
              "      margin-bottom: 4px;\n",
              "    }\n",
              "\n",
              "    [theme=dark] .colab-df-convert {\n",
              "      background-color: #3B4455;\n",
              "      fill: #D2E3FC;\n",
              "    }\n",
              "\n",
              "    [theme=dark] .colab-df-convert:hover {\n",
              "      background-color: #434B5C;\n",
              "      box-shadow: 0px 1px 3px 1px rgba(0, 0, 0, 0.15);\n",
              "      filter: drop-shadow(0px 1px 2px rgba(0, 0, 0, 0.3));\n",
              "      fill: #FFFFFF;\n",
              "    }\n",
              "  </style>\n",
              "\n",
              "    <script>\n",
              "      const buttonEl =\n",
              "        document.querySelector('#df-c1f8ea62-d09d-4ecf-9837-035239755ae0 button.colab-df-convert');\n",
              "      buttonEl.style.display =\n",
              "        google.colab.kernel.accessAllowed ? 'block' : 'none';\n",
              "\n",
              "      async function convertToInteractive(key) {\n",
              "        const element = document.querySelector('#df-c1f8ea62-d09d-4ecf-9837-035239755ae0');\n",
              "        const dataTable =\n",
              "          await google.colab.kernel.invokeFunction('convertToInteractive',\n",
              "                                                    [key], {});\n",
              "        if (!dataTable) return;\n",
              "\n",
              "        const docLinkHtml = 'Like what you see? Visit the ' +\n",
              "          '<a target=\"_blank\" href=https://colab.research.google.com/notebooks/data_table.ipynb>data table notebook</a>'\n",
              "          + ' to learn more about interactive tables.';\n",
              "        element.innerHTML = '';\n",
              "        dataTable['output_type'] = 'display_data';\n",
              "        await google.colab.output.renderOutput(dataTable, element);\n",
              "        const docLink = document.createElement('div');\n",
              "        docLink.innerHTML = docLinkHtml;\n",
              "        element.appendChild(docLink);\n",
              "      }\n",
              "    </script>\n",
              "  </div>\n",
              "\n",
              "\n",
              "    <div id=\"df-270be084-2028-4666-95cc-ccb47a9784ca\">\n",
              "      <button class=\"colab-df-quickchart\" onclick=\"quickchart('df-270be084-2028-4666-95cc-ccb47a9784ca')\"\n",
              "                title=\"Suggest charts\"\n",
              "                style=\"display:none;\">\n",
              "\n",
              "<svg xmlns=\"http://www.w3.org/2000/svg\" height=\"24px\"viewBox=\"0 0 24 24\"\n",
              "     width=\"24px\">\n",
              "    <g>\n",
              "        <path d=\"M19 3H5c-1.1 0-2 .9-2 2v14c0 1.1.9 2 2 2h14c1.1 0 2-.9 2-2V5c0-1.1-.9-2-2-2zM9 17H7v-7h2v7zm4 0h-2V7h2v10zm4 0h-2v-4h2v4z\"/>\n",
              "    </g>\n",
              "</svg>\n",
              "      </button>\n",
              "\n",
              "<style>\n",
              "  .colab-df-quickchart {\n",
              "      --bg-color: #E8F0FE;\n",
              "      --fill-color: #1967D2;\n",
              "      --hover-bg-color: #E2EBFA;\n",
              "      --hover-fill-color: #174EA6;\n",
              "      --disabled-fill-color: #AAA;\n",
              "      --disabled-bg-color: #DDD;\n",
              "  }\n",
              "\n",
              "  [theme=dark] .colab-df-quickchart {\n",
              "      --bg-color: #3B4455;\n",
              "      --fill-color: #D2E3FC;\n",
              "      --hover-bg-color: #434B5C;\n",
              "      --hover-fill-color: #FFFFFF;\n",
              "      --disabled-bg-color: #3B4455;\n",
              "      --disabled-fill-color: #666;\n",
              "  }\n",
              "\n",
              "  .colab-df-quickchart {\n",
              "    background-color: var(--bg-color);\n",
              "    border: none;\n",
              "    border-radius: 50%;\n",
              "    cursor: pointer;\n",
              "    display: none;\n",
              "    fill: var(--fill-color);\n",
              "    height: 32px;\n",
              "    padding: 0;\n",
              "    width: 32px;\n",
              "  }\n",
              "\n",
              "  .colab-df-quickchart:hover {\n",
              "    background-color: var(--hover-bg-color);\n",
              "    box-shadow: 0 1px 2px rgba(60, 64, 67, 0.3), 0 1px 3px 1px rgba(60, 64, 67, 0.15);\n",
              "    fill: var(--button-hover-fill-color);\n",
              "  }\n",
              "\n",
              "  .colab-df-quickchart-complete:disabled,\n",
              "  .colab-df-quickchart-complete:disabled:hover {\n",
              "    background-color: var(--disabled-bg-color);\n",
              "    fill: var(--disabled-fill-color);\n",
              "    box-shadow: none;\n",
              "  }\n",
              "\n",
              "  .colab-df-spinner {\n",
              "    border: 2px solid var(--fill-color);\n",
              "    border-color: transparent;\n",
              "    border-bottom-color: var(--fill-color);\n",
              "    animation:\n",
              "      spin 1s steps(1) infinite;\n",
              "  }\n",
              "\n",
              "  @keyframes spin {\n",
              "    0% {\n",
              "      border-color: transparent;\n",
              "      border-bottom-color: var(--fill-color);\n",
              "      border-left-color: var(--fill-color);\n",
              "    }\n",
              "    20% {\n",
              "      border-color: transparent;\n",
              "      border-left-color: var(--fill-color);\n",
              "      border-top-color: var(--fill-color);\n",
              "    }\n",
              "    30% {\n",
              "      border-color: transparent;\n",
              "      border-left-color: var(--fill-color);\n",
              "      border-top-color: var(--fill-color);\n",
              "      border-right-color: var(--fill-color);\n",
              "    }\n",
              "    40% {\n",
              "      border-color: transparent;\n",
              "      border-right-color: var(--fill-color);\n",
              "      border-top-color: var(--fill-color);\n",
              "    }\n",
              "    60% {\n",
              "      border-color: transparent;\n",
              "      border-right-color: var(--fill-color);\n",
              "    }\n",
              "    80% {\n",
              "      border-color: transparent;\n",
              "      border-right-color: var(--fill-color);\n",
              "      border-bottom-color: var(--fill-color);\n",
              "    }\n",
              "    90% {\n",
              "      border-color: transparent;\n",
              "      border-bottom-color: var(--fill-color);\n",
              "    }\n",
              "  }\n",
              "</style>\n",
              "\n",
              "      <script>\n",
              "        async function quickchart(key) {\n",
              "          const quickchartButtonEl =\n",
              "            document.querySelector('#' + key + ' button');\n",
              "          quickchartButtonEl.disabled = true;  // To prevent multiple clicks.\n",
              "          quickchartButtonEl.classList.add('colab-df-spinner');\n",
              "          try {\n",
              "            const charts = await google.colab.kernel.invokeFunction(\n",
              "                'suggestCharts', [key], {});\n",
              "          } catch (error) {\n",
              "            console.error('Error during call to suggestCharts:', error);\n",
              "          }\n",
              "          quickchartButtonEl.classList.remove('colab-df-spinner');\n",
              "          quickchartButtonEl.classList.add('colab-df-quickchart-complete');\n",
              "        }\n",
              "        (() => {\n",
              "          let quickchartButtonEl =\n",
              "            document.querySelector('#df-270be084-2028-4666-95cc-ccb47a9784ca button');\n",
              "          quickchartButtonEl.style.display =\n",
              "            google.colab.kernel.accessAllowed ? 'block' : 'none';\n",
              "        })();\n",
              "      </script>\n",
              "    </div>\n",
              "\n",
              "    </div>\n",
              "  </div>\n"
            ],
            "application/vnd.google.colaboratory.intrinsic+json": {
              "type": "dataframe",
              "variable_name": "compas_df",
              "summary": "{\n  \"name\": \"compas_df\",\n  \"rows\": 6172,\n  \"fields\": [\n    {\n      \"column\": \"age\",\n      \"properties\": {\n        \"dtype\": \"number\",\n        \"std\": 11,\n        \"min\": 18,\n        \"max\": 96,\n        \"num_unique_values\": 65,\n        \"samples\": [\n          83,\n          80,\n          69\n        ],\n        \"semantic_type\": \"\",\n        \"description\": \"\"\n      }\n    },\n    {\n      \"column\": \"c_charge_degree\",\n      \"properties\": {\n        \"dtype\": \"category\",\n        \"num_unique_values\": 2,\n        \"samples\": [\n          \"M\",\n          \"F\"\n        ],\n        \"semantic_type\": \"\",\n        \"description\": \"\"\n      }\n    },\n    {\n      \"column\": \"race\",\n      \"properties\": {\n        \"dtype\": \"category\",\n        \"num_unique_values\": 6,\n        \"samples\": [\n          \"Other\",\n          \"African-American\"\n        ],\n        \"semantic_type\": \"\",\n        \"description\": \"\"\n      }\n    },\n    {\n      \"column\": \"age_cat\",\n      \"properties\": {\n        \"dtype\": \"category\",\n        \"num_unique_values\": 3,\n        \"samples\": [\n          \"Greater than 45\",\n          \"25 - 45\"\n        ],\n        \"semantic_type\": \"\",\n        \"description\": \"\"\n      }\n    },\n    {\n      \"column\": \"score_text\",\n      \"properties\": {\n        \"dtype\": \"category\",\n        \"num_unique_values\": 3,\n        \"samples\": [\n          \"Low\",\n          \"Medium\"\n        ],\n        \"semantic_type\": \"\",\n        \"description\": \"\"\n      }\n    },\n    {\n      \"column\": \"sex\",\n      \"properties\": {\n        \"dtype\": \"category\",\n        \"num_unique_values\": 2,\n        \"samples\": [\n          \"Female\",\n          \"Male\"\n        ],\n        \"semantic_type\": \"\",\n        \"description\": \"\"\n      }\n    },\n    {\n      \"column\": \"priors_count\",\n      \"properties\": {\n        \"dtype\": \"number\",\n        \"std\": 4,\n        \"min\": 0,\n        \"max\": 38,\n        \"num_unique_values\": 36,\n        \"samples\": [\n          38,\n          15\n        ],\n        \"semantic_type\": \"\",\n        \"description\": \"\"\n      }\n    },\n    {\n      \"column\": \"days_b_screening_arrest\",\n      \"properties\": {\n        \"dtype\": \"number\",\n        \"std\": 5.084708898215579,\n        \"min\": -30.0,\n        \"max\": 30.0,\n        \"num_unique_values\": 56,\n        \"samples\": [\n          -1.0,\n          -24.0\n        ],\n        \"semantic_type\": \"\",\n        \"description\": \"\"\n      }\n    },\n    {\n      \"column\": \"decile_score\",\n      \"properties\": {\n        \"dtype\": \"number\",\n        \"std\": 2,\n        \"min\": 1,\n        \"max\": 10,\n        \"num_unique_values\": 10,\n        \"samples\": [\n          7,\n          3\n        ],\n        \"semantic_type\": \"\",\n        \"description\": \"\"\n      }\n    },\n    {\n      \"column\": \"is_recid\",\n      \"properties\": {\n        \"dtype\": \"number\",\n        \"std\": 0,\n        \"min\": 0,\n        \"max\": 1,\n        \"num_unique_values\": 2,\n        \"samples\": [\n          1,\n          0\n        ],\n        \"semantic_type\": \"\",\n        \"description\": \"\"\n      }\n    },\n    {\n      \"column\": \"two_year_recid\",\n      \"properties\": {\n        \"dtype\": \"number\",\n        \"std\": 0,\n        \"min\": 0,\n        \"max\": 1,\n        \"num_unique_values\": 2,\n        \"samples\": [\n          1,\n          0\n        ],\n        \"semantic_type\": \"\",\n        \"description\": \"\"\n      }\n    },\n    {\n      \"column\": \"c_jail_in\",\n      \"properties\": {\n        \"dtype\": \"date\",\n        \"min\": \"2013-01-01 01:31:55\",\n        \"max\": \"2015-01-10 02:50:22\",\n        \"num_unique_values\": 6172,\n        \"samples\": [\n          \"2014-01-24 01:47:58\",\n          \"2013-04-17 01:33:57\"\n        ],\n        \"semantic_type\": \"\",\n        \"description\": \"\"\n      }\n    },\n    {\n      \"column\": \"c_jail_out\",\n      \"properties\": {\n        \"dtype\": \"date\",\n        \"min\": \"2013-01-02 01:12:01\",\n        \"max\": \"2015-10-13 07:10:00\",\n        \"num_unique_values\": 6161,\n        \"samples\": [\n          \"2013-04-09 07:06:34\",\n          \"2013-01-12 04:14:13\"\n        ],\n        \"semantic_type\": \"\",\n        \"description\": \"\"\n      }\n    },\n    {\n      \"column\": \"length_of_stay\",\n      \"properties\": {\n        \"dtype\": \"number\",\n        \"std\": 46.69352754049049,\n        \"min\": -1.0,\n        \"max\": 799.0,\n        \"num_unique_values\": 241,\n        \"samples\": [\n          9.0,\n          14.0\n        ],\n        \"semantic_type\": \"\",\n        \"description\": \"\"\n      }\n    }\n  ]\n}"
            }
          },
          "metadata": {},
          "execution_count": 164
        }
      ],
      "source": [
        "# Boolean indexing\n",
        "compas_df[\"days_b_screening_arrest\"] <= 30 # checks if condition is true or false\n",
        "compas_df[\"two_year_recid\"] == 1.0\n",
        "compas_df[compas_df[\"days_b_screening_arrest\"] <= 30] # looking at the days before screening arrest <= 30\n",
        "# (compas_df.two_year_recid == 1).value_counts(normalize=True)\n",
        "\n",
        "# mask\n",
        "# compas_df[compas_df[\"two_year_recid\"] == 1.0] # subset dataframe to only include records where person recidivizes\n",
        "# mask = compas_df[\"two_year_recid\"] == 1.0 # create mask using boolean array\n",
        "# recid_df = compas_df[mask] # save new subsetted dataset to a new variable\n",
        "# recid_df.head()\n",
        "# recid_df = compas_df[mask].reset_index(drop=True) # reset the index and drop the previous index\n",
        "# recid_df.head()\n",
        "\n",
        "\n",
        "mask = (compas_df[\"days_b_screening_arrest\"] >= -30) & (compas_df[\"days_b_screening_arrest\"] <= 30) #\n",
        "compas_df = compas_df[mask].reset_index(drop=True)\n",
        "compas_df.head()"
      ]
    },
    {
      "cell_type": "code",
      "execution_count": null,
      "metadata": {
        "id": "Jl5waNfMaCtS"
      },
      "outputs": [],
      "source": [
        "# Useful operations - remove?\n",
        "\n",
        "# # sort values\n",
        "compas_df.sort_values(by=\"r_days_from_arrest\")\n",
        "# compas_df.sort_values(by=\"r_days_from_arrest\", ascending=True)\n",
        "\n",
        "# # # max\n",
        "# compas_df[\"r_days_from_arrest\"].max()\n"
      ]
    },
    {
      "cell_type": "code",
      "execution_count": 165,
      "metadata": {
        "id": "gDyJ_VlxH2_i",
        "outputId": "0adc57b0-aa2a-4ef3-85a6-3d2b79997fe7",
        "colab": {
          "base_uri": "https://localhost:8080/",
          "height": 175
        }
      },
      "outputs": [
        {
          "output_type": "execute_result",
          "data": {
            "text/plain": [
              "                 decile_score\n",
              "age_cat                      \n",
              "25 - 45              4.498867\n",
              "Greater than 45      2.720031\n",
              "Less than 25         5.838159"
            ],
            "text/html": [
              "\n",
              "  <div id=\"df-9c3aed5f-3480-4194-8af0-01e25ec9b4c5\" class=\"colab-df-container\">\n",
              "    <div>\n",
              "<style scoped>\n",
              "    .dataframe tbody tr th:only-of-type {\n",
              "        vertical-align: middle;\n",
              "    }\n",
              "\n",
              "    .dataframe tbody tr th {\n",
              "        vertical-align: top;\n",
              "    }\n",
              "\n",
              "    .dataframe thead th {\n",
              "        text-align: right;\n",
              "    }\n",
              "</style>\n",
              "<table border=\"1\" class=\"dataframe\">\n",
              "  <thead>\n",
              "    <tr style=\"text-align: right;\">\n",
              "      <th></th>\n",
              "      <th>decile_score</th>\n",
              "    </tr>\n",
              "    <tr>\n",
              "      <th>age_cat</th>\n",
              "      <th></th>\n",
              "    </tr>\n",
              "  </thead>\n",
              "  <tbody>\n",
              "    <tr>\n",
              "      <th>25 - 45</th>\n",
              "      <td>4.498867</td>\n",
              "    </tr>\n",
              "    <tr>\n",
              "      <th>Greater than 45</th>\n",
              "      <td>2.720031</td>\n",
              "    </tr>\n",
              "    <tr>\n",
              "      <th>Less than 25</th>\n",
              "      <td>5.838159</td>\n",
              "    </tr>\n",
              "  </tbody>\n",
              "</table>\n",
              "</div>\n",
              "    <div class=\"colab-df-buttons\">\n",
              "\n",
              "  <div class=\"colab-df-container\">\n",
              "    <button class=\"colab-df-convert\" onclick=\"convertToInteractive('df-9c3aed5f-3480-4194-8af0-01e25ec9b4c5')\"\n",
              "            title=\"Convert this dataframe to an interactive table.\"\n",
              "            style=\"display:none;\">\n",
              "\n",
              "  <svg xmlns=\"http://www.w3.org/2000/svg\" height=\"24px\" viewBox=\"0 -960 960 960\">\n",
              "    <path d=\"M120-120v-720h720v720H120Zm60-500h600v-160H180v160Zm220 220h160v-160H400v160Zm0 220h160v-160H400v160ZM180-400h160v-160H180v160Zm440 0h160v-160H620v160ZM180-180h160v-160H180v160Zm440 0h160v-160H620v160Z\"/>\n",
              "  </svg>\n",
              "    </button>\n",
              "\n",
              "  <style>\n",
              "    .colab-df-container {\n",
              "      display:flex;\n",
              "      gap: 12px;\n",
              "    }\n",
              "\n",
              "    .colab-df-convert {\n",
              "      background-color: #E8F0FE;\n",
              "      border: none;\n",
              "      border-radius: 50%;\n",
              "      cursor: pointer;\n",
              "      display: none;\n",
              "      fill: #1967D2;\n",
              "      height: 32px;\n",
              "      padding: 0 0 0 0;\n",
              "      width: 32px;\n",
              "    }\n",
              "\n",
              "    .colab-df-convert:hover {\n",
              "      background-color: #E2EBFA;\n",
              "      box-shadow: 0px 1px 2px rgba(60, 64, 67, 0.3), 0px 1px 3px 1px rgba(60, 64, 67, 0.15);\n",
              "      fill: #174EA6;\n",
              "    }\n",
              "\n",
              "    .colab-df-buttons div {\n",
              "      margin-bottom: 4px;\n",
              "    }\n",
              "\n",
              "    [theme=dark] .colab-df-convert {\n",
              "      background-color: #3B4455;\n",
              "      fill: #D2E3FC;\n",
              "    }\n",
              "\n",
              "    [theme=dark] .colab-df-convert:hover {\n",
              "      background-color: #434B5C;\n",
              "      box-shadow: 0px 1px 3px 1px rgba(0, 0, 0, 0.15);\n",
              "      filter: drop-shadow(0px 1px 2px rgba(0, 0, 0, 0.3));\n",
              "      fill: #FFFFFF;\n",
              "    }\n",
              "  </style>\n",
              "\n",
              "    <script>\n",
              "      const buttonEl =\n",
              "        document.querySelector('#df-9c3aed5f-3480-4194-8af0-01e25ec9b4c5 button.colab-df-convert');\n",
              "      buttonEl.style.display =\n",
              "        google.colab.kernel.accessAllowed ? 'block' : 'none';\n",
              "\n",
              "      async function convertToInteractive(key) {\n",
              "        const element = document.querySelector('#df-9c3aed5f-3480-4194-8af0-01e25ec9b4c5');\n",
              "        const dataTable =\n",
              "          await google.colab.kernel.invokeFunction('convertToInteractive',\n",
              "                                                    [key], {});\n",
              "        if (!dataTable) return;\n",
              "\n",
              "        const docLinkHtml = 'Like what you see? Visit the ' +\n",
              "          '<a target=\"_blank\" href=https://colab.research.google.com/notebooks/data_table.ipynb>data table notebook</a>'\n",
              "          + ' to learn more about interactive tables.';\n",
              "        element.innerHTML = '';\n",
              "        dataTable['output_type'] = 'display_data';\n",
              "        await google.colab.output.renderOutput(dataTable, element);\n",
              "        const docLink = document.createElement('div');\n",
              "        docLink.innerHTML = docLinkHtml;\n",
              "        element.appendChild(docLink);\n",
              "      }\n",
              "    </script>\n",
              "  </div>\n",
              "\n",
              "\n",
              "    <div id=\"df-671ecf50-f7b9-49f7-9573-4dd072184923\">\n",
              "      <button class=\"colab-df-quickchart\" onclick=\"quickchart('df-671ecf50-f7b9-49f7-9573-4dd072184923')\"\n",
              "                title=\"Suggest charts\"\n",
              "                style=\"display:none;\">\n",
              "\n",
              "<svg xmlns=\"http://www.w3.org/2000/svg\" height=\"24px\"viewBox=\"0 0 24 24\"\n",
              "     width=\"24px\">\n",
              "    <g>\n",
              "        <path d=\"M19 3H5c-1.1 0-2 .9-2 2v14c0 1.1.9 2 2 2h14c1.1 0 2-.9 2-2V5c0-1.1-.9-2-2-2zM9 17H7v-7h2v7zm4 0h-2V7h2v10zm4 0h-2v-4h2v4z\"/>\n",
              "    </g>\n",
              "</svg>\n",
              "      </button>\n",
              "\n",
              "<style>\n",
              "  .colab-df-quickchart {\n",
              "      --bg-color: #E8F0FE;\n",
              "      --fill-color: #1967D2;\n",
              "      --hover-bg-color: #E2EBFA;\n",
              "      --hover-fill-color: #174EA6;\n",
              "      --disabled-fill-color: #AAA;\n",
              "      --disabled-bg-color: #DDD;\n",
              "  }\n",
              "\n",
              "  [theme=dark] .colab-df-quickchart {\n",
              "      --bg-color: #3B4455;\n",
              "      --fill-color: #D2E3FC;\n",
              "      --hover-bg-color: #434B5C;\n",
              "      --hover-fill-color: #FFFFFF;\n",
              "      --disabled-bg-color: #3B4455;\n",
              "      --disabled-fill-color: #666;\n",
              "  }\n",
              "\n",
              "  .colab-df-quickchart {\n",
              "    background-color: var(--bg-color);\n",
              "    border: none;\n",
              "    border-radius: 50%;\n",
              "    cursor: pointer;\n",
              "    display: none;\n",
              "    fill: var(--fill-color);\n",
              "    height: 32px;\n",
              "    padding: 0;\n",
              "    width: 32px;\n",
              "  }\n",
              "\n",
              "  .colab-df-quickchart:hover {\n",
              "    background-color: var(--hover-bg-color);\n",
              "    box-shadow: 0 1px 2px rgba(60, 64, 67, 0.3), 0 1px 3px 1px rgba(60, 64, 67, 0.15);\n",
              "    fill: var(--button-hover-fill-color);\n",
              "  }\n",
              "\n",
              "  .colab-df-quickchart-complete:disabled,\n",
              "  .colab-df-quickchart-complete:disabled:hover {\n",
              "    background-color: var(--disabled-bg-color);\n",
              "    fill: var(--disabled-fill-color);\n",
              "    box-shadow: none;\n",
              "  }\n",
              "\n",
              "  .colab-df-spinner {\n",
              "    border: 2px solid var(--fill-color);\n",
              "    border-color: transparent;\n",
              "    border-bottom-color: var(--fill-color);\n",
              "    animation:\n",
              "      spin 1s steps(1) infinite;\n",
              "  }\n",
              "\n",
              "  @keyframes spin {\n",
              "    0% {\n",
              "      border-color: transparent;\n",
              "      border-bottom-color: var(--fill-color);\n",
              "      border-left-color: var(--fill-color);\n",
              "    }\n",
              "    20% {\n",
              "      border-color: transparent;\n",
              "      border-left-color: var(--fill-color);\n",
              "      border-top-color: var(--fill-color);\n",
              "    }\n",
              "    30% {\n",
              "      border-color: transparent;\n",
              "      border-left-color: var(--fill-color);\n",
              "      border-top-color: var(--fill-color);\n",
              "      border-right-color: var(--fill-color);\n",
              "    }\n",
              "    40% {\n",
              "      border-color: transparent;\n",
              "      border-right-color: var(--fill-color);\n",
              "      border-top-color: var(--fill-color);\n",
              "    }\n",
              "    60% {\n",
              "      border-color: transparent;\n",
              "      border-right-color: var(--fill-color);\n",
              "    }\n",
              "    80% {\n",
              "      border-color: transparent;\n",
              "      border-right-color: var(--fill-color);\n",
              "      border-bottom-color: var(--fill-color);\n",
              "    }\n",
              "    90% {\n",
              "      border-color: transparent;\n",
              "      border-bottom-color: var(--fill-color);\n",
              "    }\n",
              "  }\n",
              "</style>\n",
              "\n",
              "      <script>\n",
              "        async function quickchart(key) {\n",
              "          const quickchartButtonEl =\n",
              "            document.querySelector('#' + key + ' button');\n",
              "          quickchartButtonEl.disabled = true;  // To prevent multiple clicks.\n",
              "          quickchartButtonEl.classList.add('colab-df-spinner');\n",
              "          try {\n",
              "            const charts = await google.colab.kernel.invokeFunction(\n",
              "                'suggestCharts', [key], {});\n",
              "          } catch (error) {\n",
              "            console.error('Error during call to suggestCharts:', error);\n",
              "          }\n",
              "          quickchartButtonEl.classList.remove('colab-df-spinner');\n",
              "          quickchartButtonEl.classList.add('colab-df-quickchart-complete');\n",
              "        }\n",
              "        (() => {\n",
              "          let quickchartButtonEl =\n",
              "            document.querySelector('#df-671ecf50-f7b9-49f7-9573-4dd072184923 button');\n",
              "          quickchartButtonEl.style.display =\n",
              "            google.colab.kernel.accessAllowed ? 'block' : 'none';\n",
              "        })();\n",
              "      </script>\n",
              "    </div>\n",
              "\n",
              "    </div>\n",
              "  </div>\n"
            ],
            "application/vnd.google.colaboratory.intrinsic+json": {
              "type": "dataframe",
              "summary": "{\n  \"name\": \"#                )\",\n  \"rows\": 3,\n  \"fields\": [\n    {\n      \"column\": \"age_cat\",\n      \"properties\": {\n        \"dtype\": \"string\",\n        \"num_unique_values\": 3,\n        \"samples\": [\n          \"25 - 45\",\n          \"Greater than 45\",\n          \"Less than 25\"\n        ],\n        \"semantic_type\": \"\",\n        \"description\": \"\"\n      }\n    },\n    {\n      \"column\": \"decile_score\",\n      \"properties\": {\n        \"dtype\": \"number\",\n        \"std\": 1.5642187997700894,\n        \"min\": 2.720030935808198,\n        \"max\": 5.838158871566444,\n        \"num_unique_values\": 3,\n        \"samples\": [\n          4.498867497168743,\n          2.720030935808198,\n          5.838158871566444\n        ],\n        \"semantic_type\": \"\",\n        \"description\": \"\"\n      }\n    }\n  ]\n}"
            }
          },
          "metadata": {},
          "execution_count": 165
        }
      ],
      "source": [
        "# Pivot Tables\n",
        "\n",
        "pd.pivot_table(compas_df, values = \"decile_score\",\n",
        "                           index = \"age_cat\",\n",
        "              aggfunc=\"mean\")\n",
        "\n",
        "# pd.pivot_table(compas_df, values = \"decile_score\",\n",
        "#                            index = \"c_charge_degree\",\n",
        "#                            aggfunc='mean', # default aggregation function is sum. Can change to different function.\n",
        "#                )"
      ]
    },
    {
      "cell_type": "code",
      "execution_count": 167,
      "metadata": {
        "id": "2JRMKK9dxf4k",
        "outputId": "ac1316bd-2a17-4177-bc30-ce829e55ed0a",
        "colab": {
          "base_uri": "https://localhost:8080/"
        }
      },
      "outputs": [
        {
          "output_type": "stream",
          "name": "stdout",
          "text": [
            "age                        0.011645\n",
            "priors_count               0.189054\n",
            "days_b_screening_arrest    0.064389\n",
            "decile_score               0.207478\n",
            "is_recid                   0.108515\n",
            "two_year_recid             0.109291\n",
            "length_of_stay             1.000000\n",
            "Name: length_of_stay, dtype: float64\n"
          ]
        }
      ],
      "source": [
        "# correlation matrix\n",
        "correlation_matrix = compas_df.corr(numeric_only=True)\n",
        "print(correlation_matrix[\"length_of_stay\"])"
      ]
    },
    {
      "cell_type": "code",
      "execution_count": 170,
      "metadata": {
        "id": "mPl9V1eYTQV6",
        "outputId": "89a0b5d5-7177-4dce-dd77-8bad0094a8e3",
        "colab": {
          "base_uri": "https://localhost:8080/",
          "height": 856
        }
      },
      "outputs": [
        {
          "output_type": "display_data",
          "data": {
            "text/plain": [
              "<Figure size 1000x800 with 2 Axes>"
            ],
            "image/png": "[encoded data removed]"
          },
          "metadata": {}
        }
      ],
      "source": [
        "plt.figure(figsize=(10, 8)) # mathplotlib was imported as plt\n",
        "sns.heatmap(correlation_matrix, cmap='coolwarm')\n",
        "plt.title('Correlation Matrix')\n",
        "plt.show()"
      ]
    },
    {
      "cell_type": "code",
      "execution_count": 171,
      "metadata": {
        "id": "gp4tsu-BLRRw",
        "outputId": "aa8529df-90a9-4689-8b97-57ff00d7819b",
        "colab": {
          "base_uri": "https://localhost:8080/",
          "height": 468
        }
      },
      "outputs": [
        {
          "output_type": "execute_result",
          "data": {
            "text/plain": [
              "<Axes: xlabel='decile_score', ylabel='count'>"
            ]
          },
          "metadata": {},
          "execution_count": 171
        },
        {
          "output_type": "display_data",
          "data": {
            "text/plain": [
              "<Figure size 640x480 with 1 Axes>"
            ],
            "image/png": "[encoded data removed]"
          },
          "metadata": {}
        }
      ],
      "source": [
        "# Data Visualization\n",
        "# https://seaborn.pydata.org/api.html\n",
        "\n",
        "# Bar chart\n",
        "compas_AA = compas_df[compas_df.race == \"African-American\"].reset_index(drop=True)\n",
        "sns.countplot(x=\"decile_score\", data=compas_AA, color=\"blue\")"
      ]
    },
    {
      "cell_type": "code",
      "execution_count": 172,
      "metadata": {
        "id": "sRRisGL-LRRw",
        "outputId": "0887f3a3-b1dc-410e-e532-e3bb48669c03",
        "colab": {
          "base_uri": "https://localhost:8080/",
          "height": 468
        }
      },
      "outputs": [
        {
          "output_type": "execute_result",
          "data": {
            "text/plain": [
              "<Axes: xlabel='decile_score', ylabel='count'>"
            ]
          },
          "metadata": {},
          "execution_count": 172
        },
        {
          "output_type": "display_data",
          "data": {
            "text/plain": [
              "<Figure size 640x480 with 1 Axes>"
            ],
            "image/png": "[encoded data removed]"
          },
          "metadata": {}
        }
      ],
      "source": [
        "compas_W = compas_df[compas_df.race == \"Caucasian\"].reset_index(drop=True)\n",
        "sns.countplot(x=\"decile_score\", data=compas_W, color=\"orange\")"
      ]
    },
    {
      "cell_type": "code",
      "execution_count": 173,
      "metadata": {
        "id": "w1fwzbz--H3w",
        "outputId": "a7ba41cf-5cb8-4e47-ea28-525664a6fde0",
        "colab": {
          "base_uri": "https://localhost:8080/",
          "height": 483
        }
      },
      "outputs": [
        {
          "output_type": "execute_result",
          "data": {
            "text/plain": [
              "<Axes: xlabel='decile_score', ylabel='count'>"
            ]
          },
          "metadata": {},
          "execution_count": 173
        },
        {
          "output_type": "display_data",
          "data": {
            "text/plain": [
              "<Figure size 1000x500 with 2 Axes>"
            ],
            "image/png": "[encoded data removed]"
          },
          "metadata": {}
        }
      ],
      "source": [
        "# creating subplots\n",
        "fig, axes = plt.subplots(1,2, figsize=(10,5)) # use fig, axes to create a main figure and the axes or subplots within the figure\n",
        "\n",
        "compas_AA = compas_df[compas_df.race == \"African-American\"].reset_index(drop=True)\n",
        "sns.countplot(x=\"decile_score\", data=compas_AA, color=\"blue\", ax=axes[0]) # axes[0] assigns this plot to one subplot\n",
        "\n",
        "compas_W = compas_df[compas_df.race == \"Caucasian\"].reset_index(drop=True)\n",
        "sns.countplot(x=\"decile_score\", data=compas_W, color=\"orange\", ax=axes[1]) # axes[1] assigns this plot to another subplot"
      ]
    },
    {
      "cell_type": "code",
      "execution_count": 174,
      "metadata": {
        "id": "xpzL-gtsukuR",
        "outputId": "d69a4855-b62a-4184-da18-e2c205d0a62b",
        "colab": {
          "base_uri": "https://localhost:8080/",
          "height": 467
        }
      },
      "outputs": [
        {
          "output_type": "execute_result",
          "data": {
            "text/plain": [
              "<Axes: xlabel='age', ylabel='Count'>"
            ]
          },
          "metadata": {},
          "execution_count": 174
        },
        {
          "output_type": "display_data",
          "data": {
            "text/plain": [
              "<Figure size 640x480 with 1 Axes>"
            ],
            "image/png": "[encoded data removed]"
          },
          "metadata": {}
        }
      ],
      "source": [
        "sns.histplot(data=compas_df, x=\"age\")"
      ]
    },
    {
      "cell_type": "code",
      "execution_count": null,
      "metadata": {
        "id": "Lc0vZlJWLRR2"
      },
      "outputs": [],
      "source": [
        "sns.barplot(data=compas_df, x=\"age_cat\", y=\"decile_score\") # estimator is mean"
      ]
    },
    {
      "cell_type": "code",
      "execution_count": 177,
      "metadata": {
        "id": "88rjq_NQLRR2",
        "outputId": "d1dc637f-1aae-4884-eca8-536893e23c7b",
        "colab": {
          "base_uri": "https://localhost:8080/",
          "height": 437
        }
      },
      "outputs": [
        {
          "output_type": "execute_result",
          "data": {
            "text/plain": [
              "Text(0, 0.5, 'Decile Score')"
            ]
          },
          "metadata": {},
          "execution_count": 177
        },
        {
          "output_type": "display_data",
          "data": {
            "text/plain": [
              "<Figure size 800x400 with 1 Axes>"
            ],
            "image/png": "[encoded data removed]"
          },
          "metadata": {}
        }
      ],
      "source": [
        "#define figure size\n",
        "sns.set(rc={\"figure.figsize\":(8, 4)})\n",
        "ax = sns.barplot(data=compas_df, x=\"race\", y=\"decile_score\", hue=\"sex\")\n",
        "ax.set_title(\"Decile Scores vs. Race and Sex\")\n",
        "ax.set_xlabel(\"Race\")\n",
        "ax.set_ylabel(\"Decile Score\")"
      ]
    },
    {
      "cell_type": "code",
      "execution_count": 176,
      "metadata": {
        "id": "oQ5DccoqLRR2",
        "outputId": "2c9e0739-d123-4c42-f7e1-6e9df6e4e2b6",
        "colab": {
          "base_uri": "https://localhost:8080/",
          "height": 437
        }
      },
      "outputs": [
        {
          "output_type": "execute_result",
          "data": {
            "text/plain": [
              "Text(0, 0.5, 'Decile Score')"
            ]
          },
          "metadata": {},
          "execution_count": 176
        },
        {
          "output_type": "display_data",
          "data": {
            "text/plain": [
              "<Figure size 800x400 with 1 Axes>"
            ],
            "image/png": "[encoded data removed]"
          },
          "metadata": {}
        }
      ],
      "source": [
        "#define figure size\n",
        "sns.set(rc={\"figure.figsize\":(8, 4)})\n",
        "compas_df1=compas_df[compas_df.score_text == \"Low\"].reset_index(drop=True)\n",
        "ax = sns.barplot(data=compas_df1, x=\"race\", y=\"decile_score\", hue=\"two_year_recid\", estimator=\"mean\")\n",
        "ax.set_title(\"Decile Scores vs. Race\")\n",
        "ax.set_xlabel(\"Race\")\n",
        "ax.set_ylabel(\"Decile Score\")"
      ]
    },
    {
      "cell_type": "code",
      "execution_count": 178,
      "metadata": {
        "id": "lwsUEKayLRR2",
        "outputId": "b4fc6207-5f1a-4ae7-ca2d-4f3136b4b7d7",
        "colab": {
          "base_uri": "https://localhost:8080/",
          "height": 437
        }
      },
      "outputs": [
        {
          "output_type": "execute_result",
          "data": {
            "text/plain": [
              "Text(0, 0.5, 'Decile Score')"
            ]
          },
          "metadata": {},
          "execution_count": 178
        },
        {
          "output_type": "display_data",
          "data": {
            "text/plain": [
              "<Figure size 800x400 with 1 Axes>"
            ],
            "image/png": "[encoded data removed]"
          },
          "metadata": {}
        }
      ],
      "source": [
        "sns.set(rc={\"figure.figsize\":(8, 4)})\n",
        "ax = sns.barplot(data=compas_df1, x=\"sex\", y=\"decile_score\", hue=\"two_year_recid\")\n",
        "ax.set_title(\"Decile Scores vs. Sex\")\n",
        "ax.set_xlabel(\"Gender\")\n",
        "ax.set_ylabel(\"Decile Score\")"
      ]
    }
  ],
  "metadata": {
    "colab": {
      "provenance": []
    },
    "kernelspec": {
      "display_name": "Python 3 (ipykernel)",
      "language": "python",
      "name": "python3"
    },
    "language_info": {
      "codemirror_mode": {
        "name": "ipython",
        "version": 3
      },
      "file_extension": ".py",
      "mimetype": "text/x-python",
      "name": "python",
      "nbconvert_exporter": "python",
      "pygments_lexer": "ipython3",
      "version": "3.12.4"
    }
  },
  "nbformat": 4,
  "nbformat_minor": 0
}